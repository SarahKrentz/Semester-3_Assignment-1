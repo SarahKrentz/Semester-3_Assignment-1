{
 "cells": [
  {
   "cell_type": "markdown",
   "metadata": {},
   "source": [
    "## Assignment 1: \n",
    "\n",
    "### Tasks:\n",
    "- Read WineQuality.pdf (content pasted below)\n",
    "- Use the RedWhiteWine.csv that is provided (downloaded).\n",
    "  - Note: If needed, remove the quality attribute, which you will not need for this assignment.\n",
    "- Build an experiment using Naive Bayes Classifier.\n",
    "\n",
    "### Determine:\n",
    "- What is the percentage of correct classification results (using all attributes)?\n",
    "- What is the percentage of correct classification results (using a subset of the attributes)?\n",
    "- What is the AUC of your model? \n",
    "- What is the best AUC that you can achieve?\n",
    "- Which are the the minimum number of attributes that allows you to properly classify 95% of the samples? Why?\n",
    "\n",
    "### Submission:\n",
    "- Submit a 1-pager highlight your solution, and answering the 5 questions above"
   ]
  },
  {
   "cell_type": "markdown",
   "metadata": {},
   "source": [
    "## WineQuality.pdf\n",
    "Dataset: Wine Quality\n",
    "\n",
    "Attributes: 11 numeric, 1 nominal\n",
    "\n",
    "Class: Numeric\n",
    "\n",
    "Instances: 6497\n",
    "\n",
    "Missing Values: None\n",
    "\n",
    "In the original form of this dataset, two datasets were created, using red and white wine samples. Here, tese two datasets have been combined into one dataset. The inputs include objective tests (e.g. PH values) and the output is based on sensory data (median of at least 3 evaluations made by wine experts). Each expert graded the wine quality between 0 (very bad) and 10 (very excellent).\n",
    "\n",
    "The two datasets are related to red and white variants of the Portuguese \"Vinho Verde\" wine. Due to privacy and logistic issues, only physicochemical (inputs) and sensory (the output) variables are available (e.g. there is no data about grape types, wine brand, wine selling price, etc.).\n",
    "\n",
    "Attributes:\n",
    "- 1 - fixed acidity, numeric\n",
    "- 2 - volatile acidity, numeric\n",
    "- 3 - citric acid, numeric\n",
    "- 4 - residual sugar, numeric\n",
    "- 5 – chlorides, numeric\n",
    "- 6 - free sulfur dioxide, numeric\n",
    "- 7 - total sulfur dioxide, numeric\n",
    "- 8 – density, numeric\n",
    "- 9 – pH, numeric\n",
    "- 10 – sulphates, numeric\n",
    "- 11 – alcohol, numeric\n",
    "- 12 – R/W, nominal – R= red, W = white\n",
    "\n",
    "Class:\n",
    " quality (score between 0 and 10)\n",
    "\n",
    "Reference:\n",
    "P. Cortez, A. Cerdeira, F. Almeida, T. Matos and J. Reis. Modeling wine preferences by data mining from physicochemical properties. In Decision Support Systems, Elsevier, 47(4):547-553."
   ]
  },
  {
   "cell_type": "code",
   "execution_count": 1,
   "metadata": {
    "collapsed": true
   },
   "outputs": [],
   "source": [
    "#import\n",
    "import pandas as pd\n",
    "import numpy as np\n",
    "from sklearn.naive_bayes import GaussianNB\n",
    "#from sklearn.model_selection import train_test_split\n",
    "import matplotlib.pyplot as plt\n",
    "from sklearn import metrics\n",
    "from sklearn.metrics import roc_curve, auc\n",
    "#from sklearn import svm\n",
    "#from sklearn.multiclass import OneVsRestClassifier\n",
    "#from scipy import interp\n",
    "#from sklearn.preprocessing import label_binarize\n",
    "#import scikitplot as skplt\n"
   ]
  },
  {
   "cell_type": "code",
   "execution_count": 36,
   "metadata": {
    "collapsed": true
   },
   "outputs": [],
   "source": [
    "#load RedWhiteWine.CSV, use column headers in file, remove quality column\n",
    "wine_data = pd.read_csv('RedWhiteWine.csv', usecols=[\"fixed acidity\", \"volatile acidity\", \"citric acid\", \"residual sugar\", \"chlorides\", \n",
    "                                                \"free sulfur dioxide\", \"total sulfur dioxide\", \"density\", \"pH\", \n",
    "                                                \"sulphates\", \"alcohol\", \"Class\"])\n",
    "\n",
    "#Load RedWhiteWine.CSV, use column headers in file, remove quality and residual sugar, total sulfur dioxide, and alcohol \n",
    "#(these last 3 characteristics displayed slightly non-normal distribution, testing if it makes a difference in accuracy\n",
    "wine_data_normal = pd.read_csv('RedWhiteWine.csv', usecols=[\"fixed acidity\", \"volatile acidity\", \"citric acid\", \"chlorides\", \n",
    "                                                \"free sulfur dioxide\", \"density\", \"pH\", \n",
    "                                                \"sulphates\", \"Class\"])\n",
    "#Load RedWhiteWine.CSV, use column headers in file, use sulphates and Class only \n",
    "#testing if it makes a difference in accuracy\n",
    "wine_data_sulphates = pd.read_csv('RedWhiteWine.csv', usecols=[\"sulphates\", \"Class\"])\n",
    "\n"
   ]
  },
  {
   "cell_type": "code",
   "execution_count": 3,
   "metadata": {
    "scrolled": true
   },
   "outputs": [
    {
     "data": {
      "text/html": [
       "<div>\n",
       "<style>\n",
       "    .dataframe thead tr:only-child th {\n",
       "        text-align: right;\n",
       "    }\n",
       "\n",
       "    .dataframe thead th {\n",
       "        text-align: left;\n",
       "    }\n",
       "\n",
       "    .dataframe tbody tr th {\n",
       "        vertical-align: top;\n",
       "    }\n",
       "</style>\n",
       "<table border=\"1\" class=\"dataframe\">\n",
       "  <thead>\n",
       "    <tr style=\"text-align: right;\">\n",
       "      <th></th>\n",
       "      <th>fixed acidity</th>\n",
       "      <th>volatile acidity</th>\n",
       "      <th>citric acid</th>\n",
       "      <th>residual sugar</th>\n",
       "      <th>chlorides</th>\n",
       "      <th>free sulfur dioxide</th>\n",
       "      <th>total sulfur dioxide</th>\n",
       "      <th>density</th>\n",
       "      <th>pH</th>\n",
       "      <th>sulphates</th>\n",
       "      <th>alcohol</th>\n",
       "      <th>Class</th>\n",
       "    </tr>\n",
       "  </thead>\n",
       "  <tbody>\n",
       "    <tr>\n",
       "      <th>0</th>\n",
       "      <td>7.4</td>\n",
       "      <td>0.70</td>\n",
       "      <td>0.00</td>\n",
       "      <td>1.9</td>\n",
       "      <td>0.076</td>\n",
       "      <td>11.0</td>\n",
       "      <td>34.0</td>\n",
       "      <td>0.9978</td>\n",
       "      <td>3.51</td>\n",
       "      <td>0.56</td>\n",
       "      <td>9.4</td>\n",
       "      <td>1</td>\n",
       "    </tr>\n",
       "    <tr>\n",
       "      <th>1</th>\n",
       "      <td>7.8</td>\n",
       "      <td>0.88</td>\n",
       "      <td>0.00</td>\n",
       "      <td>2.6</td>\n",
       "      <td>0.098</td>\n",
       "      <td>25.0</td>\n",
       "      <td>67.0</td>\n",
       "      <td>0.9968</td>\n",
       "      <td>3.20</td>\n",
       "      <td>0.68</td>\n",
       "      <td>9.8</td>\n",
       "      <td>1</td>\n",
       "    </tr>\n",
       "    <tr>\n",
       "      <th>2</th>\n",
       "      <td>7.8</td>\n",
       "      <td>0.76</td>\n",
       "      <td>0.04</td>\n",
       "      <td>2.3</td>\n",
       "      <td>0.092</td>\n",
       "      <td>15.0</td>\n",
       "      <td>54.0</td>\n",
       "      <td>0.9970</td>\n",
       "      <td>3.26</td>\n",
       "      <td>0.65</td>\n",
       "      <td>9.8</td>\n",
       "      <td>1</td>\n",
       "    </tr>\n",
       "    <tr>\n",
       "      <th>3</th>\n",
       "      <td>11.2</td>\n",
       "      <td>0.28</td>\n",
       "      <td>0.56</td>\n",
       "      <td>1.9</td>\n",
       "      <td>0.075</td>\n",
       "      <td>17.0</td>\n",
       "      <td>60.0</td>\n",
       "      <td>0.9980</td>\n",
       "      <td>3.16</td>\n",
       "      <td>0.58</td>\n",
       "      <td>9.8</td>\n",
       "      <td>1</td>\n",
       "    </tr>\n",
       "    <tr>\n",
       "      <th>4</th>\n",
       "      <td>7.4</td>\n",
       "      <td>0.70</td>\n",
       "      <td>0.00</td>\n",
       "      <td>1.9</td>\n",
       "      <td>0.076</td>\n",
       "      <td>11.0</td>\n",
       "      <td>34.0</td>\n",
       "      <td>0.9978</td>\n",
       "      <td>3.51</td>\n",
       "      <td>0.56</td>\n",
       "      <td>9.4</td>\n",
       "      <td>1</td>\n",
       "    </tr>\n",
       "  </tbody>\n",
       "</table>\n",
       "</div>"
      ],
      "text/plain": [
       "   fixed acidity  volatile acidity  citric acid  residual sugar  chlorides  \\\n",
       "0            7.4              0.70         0.00             1.9      0.076   \n",
       "1            7.8              0.88         0.00             2.6      0.098   \n",
       "2            7.8              0.76         0.04             2.3      0.092   \n",
       "3           11.2              0.28         0.56             1.9      0.075   \n",
       "4            7.4              0.70         0.00             1.9      0.076   \n",
       "\n",
       "   free sulfur dioxide  total sulfur dioxide  density    pH  sulphates  \\\n",
       "0                 11.0                  34.0   0.9978  3.51       0.56   \n",
       "1                 25.0                  67.0   0.9968  3.20       0.68   \n",
       "2                 15.0                  54.0   0.9970  3.26       0.65   \n",
       "3                 17.0                  60.0   0.9980  3.16       0.58   \n",
       "4                 11.0                  34.0   0.9978  3.51       0.56   \n",
       "\n",
       "   alcohol  Class  \n",
       "0      9.4      1  \n",
       "1      9.8      1  \n",
       "2      9.8      1  \n",
       "3      9.8      1  \n",
       "4      9.4      1  "
      ]
     },
     "execution_count": 3,
     "metadata": {},
     "output_type": "execute_result"
    }
   ],
   "source": [
    "wine_data.head(5)\n"
   ]
  },
  {
   "cell_type": "code",
   "execution_count": 4,
   "metadata": {},
   "outputs": [
    {
     "data": {
      "text/plain": [
       "(6497, 12)"
      ]
     },
     "execution_count": 4,
     "metadata": {},
     "output_type": "execute_result"
    }
   ],
   "source": [
    "wine_data.shape"
   ]
  },
  {
   "cell_type": "code",
   "execution_count": 5,
   "metadata": {},
   "outputs": [
    {
     "data": {
      "text/plain": [
       "(6497, 9)"
      ]
     },
     "execution_count": 5,
     "metadata": {},
     "output_type": "execute_result"
    }
   ],
   "source": [
    "wine_data_normal.shape"
   ]
  },
  {
   "cell_type": "code",
   "execution_count": 6,
   "metadata": {},
   "outputs": [
    {
     "data": {
      "image/png": "[encoded data removed]",
      "text/plain": [
       "<matplotlib.figure.Figure at 0x29b97c3a9e8>"
      ]
     },
     "metadata": {},
     "output_type": "display_data"
    }
   ],
   "source": [
    "#plot input variables to confirm approximate gaussian distribution of each\n",
    "#plt.hist(wine_data['fixed acidity'], bins='auto')\n",
    "#plt.hist(wine_data['volatile acidity'], bins='auto')\n",
    "#plt.hist(wine_data['citric acid'], bins='auto')\n",
    "##plt.hist(wine_data['residual sugar'], bins='auto')\n",
    "#plt.hist(wine_data['chlorides'], bins='auto')\n",
    "#plt.hist(wine_data['free sulfur dioxide'], bins='auto')\n",
    "##plt.hist(wine_data['total sulfur dioxide'], bins='auto')\n",
    "#plt.hist(wine_data['density'], bins='auto')\n",
    "#plt.hist(wine_data['pH'], bins='auto')\n",
    "plt.hist(wine_data['sulphates'], bins='auto')\n",
    "##plt.hist(wine_data['alcohol'], bins='auto')\n",
    "\n",
    "plt.title(\"Wine Input Variables\")\n",
    "\n",
    "\n",
    "plt.show()\n",
    "\n",
    "#By eyeball test, all look roughly normally distributed except: residual sugar, total sulfur dioxide, and alcohol\n"
   ]
  },
  {
   "cell_type": "code",
   "execution_count": 34,
   "metadata": {},
   "outputs": [
    {
     "data": {
      "image/png": "[encoded data removed]",
      "text/plain": [
       "<matplotlib.figure.Figure at 0x29b97e04c88>"
      ]
     },
     "metadata": {},
     "output_type": "display_data"
    }
   ],
   "source": [
    "#plot each variable against Class, to test for data leakage\n",
    "#plt.scatter(wine_data['fixed acidity'], wine_data['Class'])\n",
    "#plt.scatter(wine_data['volatile acidity'], wine_data['Class'])\n",
    "#plt.scatter(wine_data['citric acid'], wine_data['Class'])\n",
    "#plt.scatter(wine_data['residual sugar'], wine_data['Class'])\n",
    "#plt.scatter(wine_data['chlorides'], wine_data['Class'])\n",
    "#plt.scatter(wine_data['free sulfur dioxide'], wine_data['Class'])\n",
    "#plt.scatter(wine_data['total sulfur dioxide'], wine_data['Class'])\n",
    "#plt.scatter(wine_data['density'], wine_data['Class'])\n",
    "#plt.scatter(wine_data['pH'], wine_data['Class'])\n",
    "plt.scatter(wine_data['sulphates'], wine_data['Class'])\n",
    "#plt.scatter(wine_data['alcohol'], wine_data['Class'])\n",
    "\n",
    "plt.title(\"Wine Input Variables vs. Class, testing for data leakage\")\n",
    "plt.show()\n",
    "\n",
    "#None appear to be data leakage"
   ]
  },
  {
   "cell_type": "code",
   "execution_count": 35,
   "metadata": {},
   "outputs": [],
   "source": [
    "#num_features = ['fixed acidity', 'volatile acidity', 'citric acid', 'residual sugar', 'chlorides',\n",
    "#                'free sulfur dioxide', 'total sulfur dioxide', 'density', 'pH',\n",
    "#                'sulphates', 'alcohol']\n",
    "#calculate the mean and standard deviation, for gnb, of each of the now numeric features\n",
    "#scaled_features = {}\n",
    "#for each in num_features:\n",
    "#    mean, std = wine_data[each].mean(), wine_data[each].std()\n",
    "#    scaled_features[each] = [mean, std]\n",
    "#    wine_data.loc[:, each] = (wine_data[each] - mean)/std"
   ]
  },
  {
   "cell_type": "code",
   "execution_count": 10,
   "metadata": {
    "collapsed": true
   },
   "outputs": [],
   "source": [
    "#divide the data into 75% train and 25% test\n",
    "#note, this method is manual, as opposed to using the test/training function: \n",
    "#trainSet, testSet = train_test_split(attribute_data, test_size = 0.25)\n",
    "\n",
    "msk = np.random.rand(wine_data.shape[0]) <= 0.75\n",
    "wine_train = wine_data.iloc[msk, 0:11]\n",
    "wine_train_target = wine_data.iloc[msk, 11]\n",
    "wine_test = wine_data.iloc[~msk, 0:11]\n",
    "wine_test_target = wine_data.iloc[~msk, 11]"
   ]
  },
  {
   "cell_type": "code",
   "execution_count": 11,
   "metadata": {},
   "outputs": [
    {
     "data": {
      "text/plain": [
       "(4878, 11)"
      ]
     },
     "execution_count": 11,
     "metadata": {},
     "output_type": "execute_result"
    }
   ],
   "source": [
    "wine_train.shape"
   ]
  },
  {
   "cell_type": "code",
   "execution_count": 12,
   "metadata": {},
   "outputs": [
    {
     "data": {
      "text/plain": [
       "(1619, 11)"
      ]
     },
     "execution_count": 12,
     "metadata": {},
     "output_type": "execute_result"
    }
   ],
   "source": [
    "wine_test.shape"
   ]
  },
  {
   "cell_type": "code",
   "execution_count": 13,
   "metadata": {
    "collapsed": true
   },
   "outputs": [],
   "source": [
    "gnb = GaussianNB()"
   ]
  },
  {
   "cell_type": "code",
   "execution_count": 14,
   "metadata": {
    "collapsed": true
   },
   "outputs": [],
   "source": [
    "gnb_model = gnb.fit(wine_train, wine_train_target)"
   ]
  },
  {
   "cell_type": "code",
   "execution_count": 15,
   "metadata": {},
   "outputs": [
    {
     "name": "stdout",
     "output_type": "stream",
     "text": [
      "Number of mislabeled points out of a total 1619 points : 50\n",
      "Accuracy (using all 11 characteristics) = 96.91\n"
     ]
    }
   ],
   "source": [
    "#make a prediction from the trained model on your test set\n",
    "y_pred = gnb_model.predict(wine_test)\n",
    "\n",
    "#test how many mislabeled points you have\n",
    "misclassified_points = (wine_test_target != y_pred).sum()\n",
    "\n",
    "#print out your accuracy calculations\n",
    "print(\"Number of mislabeled points out of a total %d points : %d\"\\\n",
    "      % (wine_test.shape[0], misclassified_points))\n",
    "print(\"Accuracy (using all 11 characteristics) = %.2f\"%(round((wine_test.shape[0] - float(misclassified_points))/wine_test.shape[0]*100,2)))"
   ]
  },
  {
   "cell_type": "code",
   "execution_count": 16,
   "metadata": {
    "collapsed": true
   },
   "outputs": [],
   "source": [
    "#divide the data into 75% train and 25% test\n",
    "#note, this method is very manual, as opposed to using the test/training function: \n",
    "#trainSet, testSet = train_test_split(attribute_data, test_size = 0.25)\n",
    "\n",
    "msk = np.random.rand(wine_data_normal.shape[0]) <= 0.75\n",
    "wine_train_normal = wine_data_normal.iloc[msk, 0:8]\n",
    "wine_train_target_normal = wine_data_normal.iloc[msk, 8]\n",
    "wine_test_normal = wine_data_normal.iloc[~msk, 0:8]\n",
    "wine_test_target_normal = wine_data_normal.iloc[~msk, 8]"
   ]
  },
  {
   "cell_type": "code",
   "execution_count": 17,
   "metadata": {
    "collapsed": true
   },
   "outputs": [],
   "source": [
    "gnb_normal = GaussianNB()\n",
    "gnb_model_normal = gnb_normal.fit(wine_train_normal, wine_train_target_normal)\n"
   ]
  },
  {
   "cell_type": "code",
   "execution_count": 18,
   "metadata": {},
   "outputs": [
    {
     "name": "stdout",
     "output_type": "stream",
     "text": [
      "Number of mislabeled points out of a total 1651 points : 85\n",
      "Accuracy (not using residual sugar, total sulfur dioxide, and alcohol) = 94.85\n"
     ]
    }
   ],
   "source": [
    "#make a prediction from the trained model on your test set\n",
    "y_pred_normal = gnb_model_normal.predict(wine_test_normal)\n",
    "\n",
    "#test how many mislabeled points you have\n",
    "misclassified_points_normal = (wine_test_target_normal != y_pred_normal).sum()\n",
    "\n",
    "#print out your accuracy calculations\n",
    "print(\"Number of mislabeled points out of a total %d points : %d\"\\\n",
    "      % (wine_test_normal.shape[0], misclassified_points_normal))\n",
    "print(\"Accuracy (not using residual sugar, total sulfur dioxide, and alcohol) = %.2f\"%(round((wine_test_normal.shape[0] - float(misclassified_points_normal))/wine_test_normal.shape[0]*100,2)))"
   ]
  },
  {
   "cell_type": "code",
   "execution_count": 38,
   "metadata": {},
   "outputs": [
    {
     "name": "stdout",
     "output_type": "stream",
     "text": [
      "Number of mislabeled points out of a total 1630 points : 333\n",
      "Accuracy (using sulphates only) = 79.57\n"
     ]
    }
   ],
   "source": [
    "#divide the data into 75% train and 25% test\n",
    "#note, this method is manual, as opposed to using the test/training function: \n",
    "#trainSet, testSet = train_test_split(attribute_data, test_size = 0.25)\n",
    "\n",
    "msk = np.random.rand(wine_data.shape[0]) <= 0.75\n",
    "wine_train_sulphates = wine_data_sulphates.iloc[msk, 0:1]\n",
    "wine_train_target_sulphates = wine_data_sulphates.iloc[msk, 1]\n",
    "wine_test_sulphates = wine_data_sulphates.iloc[~msk, 0:1]\n",
    "wine_test_target_sulphates = wine_data_sulphates.iloc[~msk, 1]\n",
    "\n",
    "gnb_sulphates = GaussianNB()\n",
    "gnb_model_sulphates = gnb_sulphates.fit(wine_train_sulphates, wine_train_target_sulphates)\n",
    "\n",
    "#make a prediction from the trained model on your test set\n",
    "y_pred_sulphates = gnb_model_sulphates.predict(wine_test_sulphates)\n",
    "\n",
    "#test how many mislabeled points you have\n",
    "misclassified_points_sulphates = (wine_test_target_sulphates != y_pred_sulphates).sum()\n",
    "\n",
    "#print out your accuracy calculations\n",
    "print(\"Number of mislabeled points out of a total %d points : %d\"\\\n",
    "      % (wine_test_sulphates.shape[0], misclassified_points_sulphates))\n",
    "print(\"Accuracy (using sulphates only) = %.2f\"%(round((wine_test_sulphates.shape[0] - float(misclassified_points_sulphates))/wine_test_sulphates.shape[0]*100,2)))"
   ]
  },
  {
   "cell_type": "code",
   "execution_count": 19,
   "metadata": {
    "collapsed": true
   },
   "outputs": [],
   "source": [
    "#calculate FPR and TPR for ROC curve plot with all 11 characteristics\n",
    "fpr, tpr, threshold = metrics.roc_curve(wine_test_target, y_pred)"
   ]
  },
  {
   "cell_type": "code",
   "execution_count": 23,
   "metadata": {},
   "outputs": [
    {
     "data": {
      "image/png": "[encoded data removed]",
      "text/plain": [
       "<matplotlib.figure.Figure at 0x29b982a59b0>"
      ]
     },
     "metadata": {},
     "output_type": "display_data"
    }
   ],
   "source": [
    "#plot the ROC\n",
    "plt.plot(fpr,tpr)\n",
    "plt.title(\"ROC (all 11 characteristics)\")\n",
    "plt.ylabel('True Positive Rate')\n",
    "plt.xlabel('False Positive Rate')\n",
    "plt.show()"
   ]
  },
  {
   "cell_type": "code",
   "execution_count": 26,
   "metadata": {},
   "outputs": [
    {
     "name": "stdout",
     "output_type": "stream",
     "text": [
      "The AUC =  0.963402149441\n"
     ]
    }
   ],
   "source": [
    "# Area under the ROC curve\n",
    "auc = metrics.auc(fpr, tpr)\n",
    "print(\"The AUC = \", auc)"
   ]
  },
  {
   "cell_type": "code",
   "execution_count": 27,
   "metadata": {
    "collapsed": true
   },
   "outputs": [],
   "source": [
    "#calculate FPR and TPR for ROC curve plot with 8 characteristics\n",
    "fpr_normal, tpr_normal, threshold_normal = metrics.roc_curve(wine_test_target_normal, y_pred_normal)"
   ]
  },
  {
   "cell_type": "code",
   "execution_count": 28,
   "metadata": {},
   "outputs": [
    {
     "data": {
      "image/png": "[encoded data removed]",
      "text/plain": [
       "<matplotlib.figure.Figure at 0x29b985737f0>"
      ]
     },
     "metadata": {},
     "output_type": "display_data"
    }
   ],
   "source": [
    "#plot the ROC\n",
    "plt.plot(fpr_normal,tpr_normal)\n",
    "plt.title(\"ROC (with 8 normally distributed characteristics)\")\n",
    "plt.ylabel('True Positive Rate')\n",
    "plt.xlabel('False Positive Rate')\n",
    "plt.show()"
   ]
  },
  {
   "cell_type": "code",
   "execution_count": 29,
   "metadata": {},
   "outputs": [
    {
     "name": "stdout",
     "output_type": "stream",
     "text": [
      "The AUC =  0.941641410663\n"
     ]
    }
   ],
   "source": [
    "# Area under the ROC curve\n",
    "auc_normal = metrics.auc(fpr_normal, tpr_normal)\n",
    "print(\"The AUC = \", auc_normal)"
   ]
  },
  {
   "cell_type": "code",
   "execution_count": 40,
   "metadata": {},
   "outputs": [
    {
     "data": {
      "image/png": "[encoded data removed]",
      "text/plain": [
       "<matplotlib.figure.Figure at 0x29b98252668>"
      ]
     },
     "metadata": {},
     "output_type": "display_data"
    },
    {
     "name": "stdout",
     "output_type": "stream",
     "text": [
      "The AUC =  0.640045471512\n"
     ]
    }
   ],
   "source": [
    "#calculate FPR and TPR for ROC curve plot with sulphates only\n",
    "fpr_sulphates, tpr_sulphates, threshold_sulphates = metrics.roc_curve(wine_test_target_sulphates, y_pred_sulphates)\n",
    "\n",
    "#plot the ROC\n",
    "plt.plot(fpr_sulphates,tpr_sulphates)\n",
    "plt.title(\"ROC (sulphates only)\")\n",
    "plt.ylabel('True Positive Rate')\n",
    "plt.xlabel('False Positive Rate')\n",
    "plt.show()\n",
    "\n",
    "# Area under the ROC curve\n",
    "auc_sulphates = metrics.auc(fpr_sulphates, tpr_sulphates)\n",
    "print(\"The AUC = \", auc_sulphates)"
   ]
  },
  {
   "cell_type": "code",
   "execution_count": null,
   "metadata": {
    "collapsed": true
   },
   "outputs": [],
   "source": []
  }
 ],
 "metadata": {
  "kernelspec": {
   "display_name": "Python 3",
   "language": "python",
   "name": "python3"
  },
  "language_info": {
   "codemirror_mode": {
    "name": "ipython",
    "version": 3
   },
   "file_extension": ".py",
   "mimetype": "text/x-python",
   "name": "python",
   "nbconvert_exporter": "python",
   "pygments_lexer": "ipython3",
   "version": "3.6.3"
  }
 },
 "nbformat": 4,
 "nbformat_minor": 2
}
